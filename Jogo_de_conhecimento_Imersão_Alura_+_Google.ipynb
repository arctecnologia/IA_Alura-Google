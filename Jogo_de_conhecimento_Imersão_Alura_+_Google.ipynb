{
  "nbformat": 4,
  "nbformat_minor": 0,
  "metadata": {
    "colab": {
      "provenance": [],
      "authorship_tag": "ABX9TyPQ1WF2LdITi3fTm2zzQ0f3",
      "include_colab_link": true
    },
    "kernelspec": {
      "name": "python3",
      "display_name": "Python 3"
    },
    "language_info": {
      "name": "python"
    }
  },
  "cells": [
    {
      "cell_type": "markdown",
      "metadata": {
        "id": "view-in-github",
        "colab_type": "text"
      },
      "source": [
        "<a href=\"https://colab.research.google.com/github/arctecnologia/IA_Alura-Google/blob/main/Jogo_de_conhecimento_Imers%C3%A3o_Alura_%2B_Google.ipynb\" target=\"_parent\"><img src=\"https://colab.research.google.com/assets/colab-badge.svg\" alt=\"Open In Colab\"/></a>"
      ]
    },
    {
      "cell_type": "markdown",
      "source": [
        "Como jogar:\n",
        "Execute o código Python.\n",
        "Leia a pergunta e as alternativas.\n",
        "Preste atenção na dica!\n",
        "Digite a letra da alternativa que você considera correta e pressione Enter.\n",
        "O jogo mostrará se você acertou ou errou, e qual era a resposta correta.\n",
        "Continue respondendo às perguntas até o final.\n",
        "Veja sua pontuação final e descubra se você é um mestre da Imersão!"
      ],
      "metadata": {
        "id": "8azlmEk3PZYW"
      }
    },
    {
      "cell_type": "code",
      "execution_count": null,
      "metadata": {
        "id": "Vk61_vSxOUOH"
      },
      "outputs": [],
      "source": [
        "import random\n",
        "\n",
        "def mostrar_pergunta(pergunta, alternativas, dica):\n",
        "    print(f\"\\n{pergunta}\")\n",
        "    for letra, alternativa in alternativas.items():\n",
        "        print(f\" {letra}) {alternativa}\")\n",
        "    print(f\"\\nDica: {dica}\")\n",
        "\n",
        "def verificar_resposta(resposta_certa, resposta_jogador):\n",
        "    return resposta_certa == resposta_jogador.upper()\n",
        "\n",
        "perguntas = {\n",
        "    \"Qual linguagem de programação foi o foco da Imersão?\": {\n",
        "        \"alternativas\": {\n",
        "            \"A\": \"Python\",\n",
        "            \"B\": \"JavaScript\",\n",
        "            \"C\": \"Java\",\n",
        "            \"D\": \"Kotlin\"\n",
        "        },\n",
        "        \"dica\": \"É uma linguagem versátil e amigável para iniciantes.\",\n",
        "        \"resposta_certa\": \"A\"\n",
        "    },\n",
        "    \"Quem foi o instrutor da Imersão Alura com Google?\": {\n",
        "        \"alternativas\": {\n",
        "            \"A\": \"Paulo Silveira\",\n",
        "            \"B\": \"Guilherme Silveira\",\n",
        "            \"C\": \"Mario Souto\",\n",
        "            \"D\": \"Jayme Minhas\"\n",
        "        },\n",
        "        \"dica\": \"Ele é um dos fundadores da Alura.\",\n",
        "        \"resposta_certa\": \"B\"\n",
        "    },\n",
        "    \"Qual tecnologia do Google foi utilizada para criar interfaces?\": {\n",
        "        \"alternativas\": {\n",
        "            \"A\": \"Angular\",\n",
        "            \"B\": \"Flutter\",\n",
        "            \"C\": \"Firebase\",\n",
        "            \"D\": \"Google Cloud\"\n",
        "        },\n",
        "        \"dica\": \"Permite construir interfaces bonitas e performáticas para mobile e web.\",\n",
        "        \"resposta_certa\": \"B\"\n",
        "    }\n",
        "}\n",
        "\n",
        "num_perguntas = len(perguntas)\n",
        "perguntas_sorteadas = random.sample(list(perguntas.keys()), num_perguntas)\n",
        "\n",
        "pontuacao = 0\n",
        "\n",
        "for pergunta in perguntas_sorteadas:\n",
        "    alternativas = perguntas[pergunta][\"alternativas\"]\n",
        "    dica = perguntas[pergunta][\"dica\"]\n",
        "    resposta_certa = perguntas[pergunta][\"resposta_certa\"]\n",
        "\n",
        "    mostrar_pergunta(pergunta, alternativas, dica)\n",
        "    resposta_jogador = input(\"Sua resposta: \")\n",
        "\n",
        "    if verificar_resposta(resposta_certa, resposta_jogador):\n",
        "        print(\"Parabéns, resposta correta!\")\n",
        "        pontuacao += 1\n",
        "    else:\n",
        "        print(f\"Resposta incorreta. A resposta certa era {resposta_certa}.\")\n",
        "\n",
        "print(f\"\\nVocê acertou {pontuacao} de {num_perguntas} perguntas!\")\n",
        "\n",
        "if pontuacao == num_perguntas:\n",
        "    print(\"Parabéns, você é um mestre da Imersão Alura com Google!\")"
      ]
    }
  ]
}